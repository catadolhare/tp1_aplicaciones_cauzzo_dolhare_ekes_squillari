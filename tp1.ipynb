{
 "cells": [
  {
   "cell_type": "code",
   "execution_count": 8,
   "metadata": {},
   "outputs": [],
   "source": [
    "import numpy as np\n",
    "import pandas as pd\n",
    "import matplotlib.pyplot as plt\n",
    "from scipy import stats"
   ]
  },
  {
   "cell_type": "markdown",
   "metadata": {},
   "source": [
    "### Ejercicio 1"
   ]
  },
  {
   "cell_type": "code",
   "execution_count": 3,
   "metadata": {},
   "outputs": [
    {
     "name": "stdout",
     "output_type": "stream",
     "text": [
      "       dia  regional wind  wind gap norte sur\n",
      "0        1       8.000000            0.000000\n",
      "1        2       8.346296            0.181523\n",
      "2        3      10.062316            0.188643\n",
      "3        4      10.791337            0.071085\n",
      "4        5      10.754093            0.078442\n",
      "...    ...            ...                 ...\n",
      "3645  3646       8.642231           -0.869425\n",
      "3646  3647       6.527408           -1.268447\n",
      "3647  3648       6.230707           -1.149234\n",
      "3648  3649       5.550882           -0.420431\n",
      "3649  3650       6.545450            0.250088\n",
      "\n",
      "[3650 rows x 3 columns]\n"
     ]
    }
   ],
   "source": [
    "datos = pd.read_excel('wind_data.xlsx')\n",
    "print(datos)"
   ]
  },
  {
   "cell_type": "code",
   "execution_count": 7,
   "metadata": {},
   "outputs": [
    {
     "name": "stdout",
     "output_type": "stream",
     "text": [
      "       dia  regional wind  wind gap norte sur  wind dif\n",
      "0        1       8.000000            0.000000       NaN\n",
      "1        2       8.346296            0.181523  0.346296\n",
      "2        3      10.062316            0.188643  1.716019\n",
      "3        4      10.791337            0.071085  0.729021\n",
      "4        5      10.754093            0.078442 -0.037244\n",
      "...    ...            ...                 ...       ...\n",
      "3645  3646       8.642231           -0.869425  0.940298\n",
      "3646  3647       6.527408           -1.268447 -2.114824\n",
      "3647  3648       6.230707           -1.149234 -0.296701\n",
      "3648  3649       5.550882           -0.420431 -0.679825\n",
      "3649  3650       6.545450            0.250088  0.994568\n",
      "\n",
      "[3650 rows x 4 columns]\n"
     ]
    }
   ],
   "source": [
    "datos['wind dif'] = datos['regional wind'] - datos['regional wind'].shift(1)\n",
    "print(datos)"
   ]
  },
  {
   "cell_type": "code",
   "execution_count": 15,
   "metadata": {},
   "outputs": [
    {
     "name": "stdout",
     "output_type": "stream",
     "text": [
      "beta_0: -0.002552164882229644\n",
      "beta_1: 1.1793804766925413e-06\n"
     ]
    }
   ],
   "source": [
    "datos_filtrados = datos.dropna(subset=['wind dif'])\n",
    "\n",
    "slope, intercept, r_value, p_value, std_err = stats.linregress(datos_filtrados['dia'], datos_filtrados['wind dif'])\n",
    "\n",
    "beta_1 = slope\n",
    "beta_0 = intercept\n",
    "\n",
    "print('beta_0:', beta_0)\n",
    "print('beta_1:', beta_1)"
   ]
  },
  {
   "cell_type": "code",
   "execution_count": 16,
   "metadata": {},
   "outputs": [
    {
     "name": "stdout",
     "output_type": "stream",
     "text": [
      "kappa: -0.0004304738739927776\n"
     ]
    }
   ],
   "source": [
    "kappa = -365 * beta_1\n",
    "print('kappa:', kappa)"
   ]
  },
  {
   "cell_type": "code",
   "execution_count": 17,
   "metadata": {},
   "outputs": [
    {
     "data": {
      "text/plain": [
       "0.9109624264797358"
      ]
     },
     "execution_count": 17,
     "metadata": {},
     "output_type": "execute_result"
    }
   ],
   "source": [
    "Y_pred = beta_0 + beta_1 * datos_filtrados['dia']\n",
    "\n",
    "residuo = datos_filtrados['wind dif'] - Y_pred\n",
    "\n",
    "sigma = np.std(residuo)\n",
    "sigma"
   ]
  },
  {
   "cell_type": "code",
   "execution_count": 19,
   "metadata": {},
   "outputs": [
    {
     "name": "stdout",
     "output_type": "stream",
     "text": [
      "       dia  regional wind  wind gap norte sur  wind dif   gap dif\n",
      "0        1       8.000000            0.000000       NaN       NaN\n",
      "1        2       8.346296            0.181523  0.346296  0.181523\n",
      "2        3      10.062316            0.188643  1.716019  0.007120\n",
      "3        4      10.791337            0.071085  0.729021 -0.117558\n",
      "4        5      10.754093            0.078442 -0.037244  0.007358\n",
      "...    ...            ...                 ...       ...       ...\n",
      "3645  3646       8.642231           -0.869425  0.940298  0.185931\n",
      "3646  3647       6.527408           -1.268447 -2.114824 -0.399021\n",
      "3647  3648       6.230707           -1.149234 -0.296701  0.119213\n",
      "3648  3649       5.550882           -0.420431 -0.679825  0.728803\n",
      "3649  3650       6.545450            0.250088  0.994568  0.670518\n",
      "\n",
      "[3650 rows x 5 columns]\n"
     ]
    }
   ],
   "source": [
    "datos['gap dif'] = datos['wind gap norte sur'] - datos['wind gap norte sur'].shift(1)\n",
    "print(datos)"
   ]
  },
  {
   "cell_type": "code",
   "execution_count": 21,
   "metadata": {},
   "outputs": [
    {
     "name": "stdout",
     "output_type": "stream",
     "text": [
      "beta_0: -8.662160282027568e-05\n",
      "beta_1: 8.497127690939294e-08\n"
     ]
    }
   ],
   "source": [
    "datos_filtrados_gap = datos.dropna(subset=['gap dif'])\n",
    "\n",
    "slope_gap, intercept_gap, r_value_gap, p_value_gap, std_err_gap = stats.linregress(datos_filtrados_gap['dia'], datos_filtrados_gap['gap dif'])\n",
    "\n",
    "beta_1_gap = slope_gap\n",
    "beta_0_gap = intercept_gap\n",
    "\n",
    "print('beta_0:', beta_0_gap)\n",
    "print('beta_1:', beta_1_gap)"
   ]
  },
  {
   "cell_type": "code",
   "execution_count": 22,
   "metadata": {},
   "outputs": [
    {
     "data": {
      "text/plain": [
       "-3.101451607192842e-05"
      ]
     },
     "execution_count": 22,
     "metadata": {},
     "output_type": "execute_result"
    }
   ],
   "source": [
    "beta = -365 * beta_1_gap\n",
    "beta"
   ]
  },
  {
   "cell_type": "code",
   "execution_count": 24,
   "metadata": {},
   "outputs": [
    {
     "data": {
      "text/plain": [
       "0.5465935050937145"
      ]
     },
     "execution_count": 24,
     "metadata": {},
     "output_type": "execute_result"
    }
   ],
   "source": [
    "D_pred = beta_0_gap + beta_1_gap * datos_filtrados['dia']\n",
    "\n",
    "residuo_gap = datos_filtrados_gap['gap dif'] - D_pred\n",
    "\n",
    "gamma = np.std(residuo_gap)\n",
    "gamma"
   ]
  },
  {
   "cell_type": "markdown",
   "metadata": {},
   "source": [
    "## Ejercicio 2"
   ]
  },
  {
   "cell_type": "code",
   "execution_count": null,
   "metadata": {},
   "outputs": [],
   "source": [
    "def theta(t):\n",
    "    return 6 + 2 * np.cos(2 * np.pi * t / 365)"
   ]
  },
  {
   "cell_type": "code",
   "execution_count": null,
   "metadata": {},
   "outputs": [],
   "source": [
    "walk_viento = [datos['regional wind'][0]]\n",
    "\n",
    "for i in range(1, 365):\n",
    "    S_t = walk_viento[i - 1] + kappa * (theta(i) - walk_viento[i - 1]) * 1/365 + sigma * np.sqrt(1/365) * np.random.normal(0, 1)\n",
    "    walk_viento.append(S_t)"
   ]
  }
 ],
 "metadata": {
  "kernelspec": {
   "display_name": "TD6",
   "language": "python",
   "name": "python3"
  },
  "language_info": {
   "codemirror_mode": {
    "name": "ipython",
    "version": 3
   },
   "file_extension": ".py",
   "mimetype": "text/x-python",
   "name": "python",
   "nbconvert_exporter": "python",
   "pygments_lexer": "ipython3",
   "version": "3.12.4"
  }
 },
 "nbformat": 4,
 "nbformat_minor": 2
}
